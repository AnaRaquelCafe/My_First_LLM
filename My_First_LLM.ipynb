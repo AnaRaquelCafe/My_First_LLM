{
  "nbformat": 4,
  "nbformat_minor": 0,
  "metadata": {
    "colab": {
      "provenance": [],
      "authorship_tag": "ABX9TyP+hO7vRwaRStMLXKi4iOKN",
      "include_colab_link": true
    },
    "kernelspec": {
      "name": "python3",
      "display_name": "Python 3"
    },
    "language_info": {
      "name": "python"
    }
  },
  "cells": [
    {
      "cell_type": "markdown",
      "metadata": {
        "id": "view-in-github",
        "colab_type": "text"
      },
      "source": [
        "<a href=\"https://colab.research.google.com/github/AnaRaquelCafe/My_First_LLM/blob/main/My_First_LLM.ipynb\" target=\"_parent\"><img src=\"https://colab.research.google.com/assets/colab-badge.svg\" alt=\"Open In Colab\"/></a>"
      ]
    },
    {
      "cell_type": "code",
      "execution_count": null,
      "metadata": {
        "colab": {
          "base_uri": "https://localhost:8080/",
          "height": 55
        },
        "id": "XVZk0W0hpiPi",
        "outputId": "f251b64b-06c9-433b-e17c-471e0af62e83"
      },
      "outputs": [
        {
          "output_type": "stream",
          "name": "stdout",
          "text": [
            "Sushi é uma hamster anã russa, da raça Winter White, que pertence à Ana Raquel. Ela é muito fofa e adora comer cenourinha. Seu passatempo favorito é malhar na rodinha, principalmente durante a noite.\n"
          ]
        }
      ],
      "source": [
        "# modelo 1\n",
        "\n",
        "import google.generativeai as genai\n",
        "from google.colab import userdata\n",
        "api_key = userdata.get('SECRET_KEY')\n",
        "genai.configure(api_key=api_key)\n",
        "\n",
        "# Set up the model\n",
        "generation_config = {\n",
        "  \"temperature\": 0.5,\n",
        "  \"top_p\": 0.95,\n",
        "  \"top_k\": 35,\n",
        "  \"max_output_tokens\": 1000,\n",
        "}\n",
        "\n",
        "safety_settings = [\n",
        "  {\n",
        "    \"category\": \"HARM_CATEGORY_HARASSMENT\",\n",
        "    \"threshold\": \"BLOCK_MEDIUM_AND_ABOVE\"\n",
        "  },\n",
        "  {\n",
        "    \"category\": \"HARM_CATEGORY_HATE_SPEECH\",\n",
        "    \"threshold\": \"BLOCK_MEDIUM_AND_ABOVE\"\n",
        "  },\n",
        "  {\n",
        "    \"category\": \"HARM_CATEGORY_SEXUALLY_EXPLICIT\",\n",
        "    \"threshold\": \"BLOCK_MEDIUM_AND_ABOVE\"\n",
        "  },\n",
        "  {\n",
        "    \"category\": \"HARM_CATEGORY_DANGEROUS_CONTENT\",\n",
        "    \"threshold\": \"BLOCK_MEDIUM_AND_ABOVE\"\n",
        "  },\n",
        "]\n",
        "\n",
        "model = genai.GenerativeModel(model_name=\"gemini-1.0-pro\",\n",
        "                              generation_config=generation_config,\n",
        "                              safety_settings=safety_settings)\n",
        "\n",
        "\n",
        "convo = model.start_chat(history=[\n",
        "  {\n",
        "    \"role\": \"user\",\n",
        "    \"parts\": [\"Quem é a Sushi?\"]\n",
        "  },\n",
        "\n",
        "  {\n",
        "    \"role\": \"model\",\n",
        "    \"parts\": [\"Uma hamster anã russa bem fofinha da Ana Raquel que adora comer cenourinha. Ela adora malhar na rodinha dela malhando durante a noite.\"]\n",
        "  },\n",
        "])\n",
        "\n",
        "convo.send_message(\"Quem é Sushi?\")\n",
        "print(convo.last.text)"
      ]
    },
    {
      "cell_type": "code",
      "source": [
        "# modelo 2\n",
        "\n",
        "import google.generativeai as genai\n",
        "\n",
        "genai.configure(api_key=\"COLE SUA API KEY\")\n",
        "\n",
        "# Set up the model\n",
        "generation_config = {\n",
        "  \"temperature\": 0.9,\n",
        "  \"top_p\": 0.90,\n",
        "  \"top_k\": 50,\n",
        "  \"max_output_tokens\": 1000,\n",
        "}\n",
        "\n",
        "safety_settings = [\n",
        "  {\n",
        "    \"category\": \"HARM_CATEGORY_HARASSMENT\",\n",
        "    \"threshold\": \"BLOCK_MEDIUM_AND_ABOVE\"\n",
        "  },\n",
        "  {\n",
        "    \"category\": \"HARM_CATEGORY_HATE_SPEECH\",\n",
        "    \"threshold\": \"BLOCK_MEDIUM_AND_ABOVE\"\n",
        "  },\n",
        "  {\n",
        "    \"category\": \"HARM_CATEGORY_SEXUALLY_EXPLICIT\",\n",
        "    \"threshold\": \"BLOCK_MEDIUM_AND_ABOVE\"\n",
        "  },\n",
        "  {\n",
        "    \"category\": \"HARM_CATEGORY_DANGEROUS_CONTENT\",\n",
        "    \"threshold\": \"BLOCK_MEDIUM_AND_ABOVE\"\n",
        "  },\n",
        "]\n",
        "\n",
        "model = genai.GenerativeModel(model_name=\"gemini-1.0-pro\",\n",
        "                              generation_config=generation_config,\n",
        "                              safety_settings=safety_settings)\n",
        "\n",
        "\n",
        "convo = model.start_chat(history=[\n",
        "  {\n",
        "    \"role\": \"user\",\n",
        "    \"parts\": [\"Quem é a Sushi?\"]\n",
        "  },\n",
        "\n",
        "  {\n",
        "    \"role\": \"model\",\n",
        "    \"parts\": [\"Uma hamster anã russa bem fofinha da Ana Raquel que adora comer cenourinha. Ela adora malhar na rodinha dela malhando durante a noite.\"]\n",
        "  },\n",
        "])\n",
        "\n",
        "convo.send_message(\"Quem é Sushi?\")\n",
        "print(convo.last.text)"
      ],
      "metadata": {
        "colab": {
          "base_uri": "https://localhost:8080/",
          "height": 565
        },
        "id": "aYvV5hff1vcN",
        "outputId": "075432ca-64f7-4b34-c229-de69c95d62ae"
      },
      "execution_count": null,
      "outputs": [
        {
          "output_type": "stream",
          "name": "stdout",
          "text": [
            "**Sushi é uma hamster anã russa muito fofa e ativa.**\n",
            "\n",
            "**Características físicas:**\n",
            "\n",
            "* Pequena, com cerca de 5 a 10 cm de comprimento\n",
            "* Pelagem curta e macia, geralmente cinza ou marrom\n",
            "* Olhos pretos e brilhantes\n",
            "* Orelhas pequenas e arredondadas\n",
            "* Cauda curta e peluda\n",
            "\n",
            "**Personalidade:**\n",
            "\n",
            "* Amigável e curiosa\n",
            "* Adora explorar e brincar\n",
            "* Pode ser um pouco tímida no início, mas se acostuma com as pessoas rapidamente\n",
            "* É muito ativa, especialmente à noite, e adora correr em sua rodinha\n",
            "\n",
            "**Cuidados:**\n",
            "\n",
            "* Precisa de uma gaiola espaçosa com bastante espaço para correr e brincar\n",
            "* Deve ser alimentada com uma dieta balanceada de sementes, frutas e vegetais\n",
            "* Necessita de acesso constante a água fresca\n",
            "* É importante limpar regularmente sua gaiola e trocar sua cama\n",
            "\n",
            "**Fatos divertidos:**\n",
            "\n",
            "* Sushi é o nome de um prato japonês feito com arroz avinagrado e peixe cru ou frutos do mar.\n",
            "* Os hamsters anões russos são conhecidos por seu comportamento curioso e lúdico.\n",
            "* Eles são animais crepusculares, o que significa que são mais ativos ao amanhecer e ao anoitecer.\n",
            "* A expectativa de vida de um hamster anão russo é de cerca de 2 a 3 anos.\n"
          ]
        }
      ]
    },
    {
      "cell_type": "code",
      "source": [
        "# modelo 3\n",
        "\n",
        "import google.generativeai as genai\n",
        "\n",
        "genai.configure(api_key=\"COLE SUA API KEY\")\n",
        "\n",
        "# Set up the model\n",
        "generation_config = {\n",
        "  \"temperature\": 0.9,\n",
        "  \"top_p\": 1,\n",
        "  \"top_k\": 1,\n",
        "  \"max_output_tokens\": 3000,\n",
        "}\n",
        "\n",
        "safety_settings = [\n",
        "  {\n",
        "    \"category\": \"HARM_CATEGORY_HARASSMENT\",\n",
        "    \"threshold\": \"BLOCK_MEDIUM_AND_ABOVE\"\n",
        "  },\n",
        "  {\n",
        "    \"category\": \"HARM_CATEGORY_HATE_SPEECH\",\n",
        "    \"threshold\": \"BLOCK_MEDIUM_AND_ABOVE\"\n",
        "  },\n",
        "  {\n",
        "    \"category\": \"HARM_CATEGORY_SEXUALLY_EXPLICIT\",\n",
        "    \"threshold\": \"BLOCK_MEDIUM_AND_ABOVE\"\n",
        "  },\n",
        "  {\n",
        "    \"category\": \"HARM_CATEGORY_DANGEROUS_CONTENT\",\n",
        "    \"threshold\": \"BLOCK_MEDIUM_AND_ABOVE\"\n",
        "  },\n",
        "]\n",
        "\n",
        "model = genai.GenerativeModel(model_name=\"gemini-1.0-pro\",\n",
        "                              generation_config=generation_config,\n",
        "                              safety_settings=safety_settings)\n",
        "\n",
        "\n",
        "convo = model.start_chat(history=[\n",
        "  {\n",
        "    \"role\": \"user\",\n",
        "    \"parts\": [\"Quem é a Sushi?\"]\n",
        "  },\n",
        "\n",
        "  {\n",
        "    \"role\": \"model\",\n",
        "    \"parts\": [\"Uma hamster anã russa bem fofinha da Ana Raquel que adora comer cenourinha. Ela adora malhar na rodinha dela malhando durante a noite.\"]\n",
        "  },\n",
        "])\n",
        "\n",
        "convo.send_message(\"Quem é Sushi?\")\n",
        "print(convo.last.text)"
      ],
      "metadata": {
        "colab": {
          "base_uri": "https://localhost:8080/",
          "height": 238
        },
        "id": "G4sxqCmX6ofk",
        "outputId": "ac980460-b7d5-46c0-e38c-5eaf5658edfb"
      },
      "execution_count": null,
      "outputs": [
        {
          "output_type": "stream",
          "name": "stdout",
          "text": [
            "Sushi é uma hamster anã russa, da raça Campbell. Ela é a mascote da Ana Raquel, uma criadora de conteúdo e influenciadora digital brasileira. Sushi é conhecida por ser muito fofa e brincalhona, e adora comer cenourinhas. Ela tem sua própria página no Instagram, onde seus fãs podem acompanhar suas aventuras e fofuras.\n",
            "\n",
            "Aqui estão algumas curiosidades sobre Sushi:\n",
            "\n",
            "* Ela nasceu em 2021.\n",
            "* Ela é muito ativa e adora correr em sua rodinha.\n",
            "* Ela é muito curiosa e adora explorar seu ambiente.\n",
            "* Ela é muito amigável e adora ser acariciada.\n",
            "* Ela tem uma irmã chamada Mochi, que também é uma hamster anã russa.\n",
            "\n",
            "Sushi é uma hamster muito amada e traz muita alegria para seus seguidores nas redes sociais.\n"
          ]
        }
      ]
    }
  ]
}